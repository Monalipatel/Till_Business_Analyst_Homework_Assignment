{
 "cells": [
  {
   "cell_type": "code",
   "execution_count": 1,
   "metadata": {},
   "outputs": [],
   "source": [
    "%matplotlib inline\n",
    "import matplotlib.pyplot as plt\n",
    "import numpy as np\n",
    "import pandas as pd"
   ]
  },
  {
   "cell_type": "code",
   "execution_count": 2,
   "metadata": {},
   "outputs": [
    {
     "data": {
      "text/html": [
       "<div>\n",
       "<style scoped>\n",
       "    .dataframe tbody tr th:only-of-type {\n",
       "        vertical-align: middle;\n",
       "    }\n",
       "\n",
       "    .dataframe tbody tr th {\n",
       "        vertical-align: top;\n",
       "    }\n",
       "\n",
       "    .dataframe thead th {\n",
       "        text-align: right;\n",
       "    }\n",
       "</style>\n",
       "<table border=\"1\" class=\"dataframe\">\n",
       "  <thead>\n",
       "    <tr style=\"text-align: right;\">\n",
       "      <th></th>\n",
       "      <th>carid</th>\n",
       "      <th>vehicle</th>\n",
       "      <th>year</th>\n",
       "      <th>msrp</th>\n",
       "      <th>accelrate</th>\n",
       "      <th>mpg</th>\n",
       "      <th>mpgmpge</th>\n",
       "      <th>carclass</th>\n",
       "      <th>carclass_id</th>\n",
       "    </tr>\n",
       "  </thead>\n",
       "  <tbody>\n",
       "    <tr>\n",
       "      <th>0</th>\n",
       "      <td>1</td>\n",
       "      <td>Prius (1st Gen)</td>\n",
       "      <td>1997</td>\n",
       "      <td>24509.74</td>\n",
       "      <td>7.46</td>\n",
       "      <td>41.26</td>\n",
       "      <td>41.26</td>\n",
       "      <td>C</td>\n",
       "      <td>1</td>\n",
       "    </tr>\n",
       "    <tr>\n",
       "      <th>1</th>\n",
       "      <td>2</td>\n",
       "      <td>Tino</td>\n",
       "      <td>2000</td>\n",
       "      <td>35354.97</td>\n",
       "      <td>8.20</td>\n",
       "      <td>54.10</td>\n",
       "      <td>54.10</td>\n",
       "      <td>C</td>\n",
       "      <td>1</td>\n",
       "    </tr>\n",
       "    <tr>\n",
       "      <th>2</th>\n",
       "      <td>3</td>\n",
       "      <td>Prius (2nd Gen)</td>\n",
       "      <td>2000</td>\n",
       "      <td>26832.25</td>\n",
       "      <td>7.97</td>\n",
       "      <td>45.23</td>\n",
       "      <td>45.23</td>\n",
       "      <td>C</td>\n",
       "      <td>1</td>\n",
       "    </tr>\n",
       "    <tr>\n",
       "      <th>3</th>\n",
       "      <td>4</td>\n",
       "      <td>Insight</td>\n",
       "      <td>2000</td>\n",
       "      <td>18936.41</td>\n",
       "      <td>9.52</td>\n",
       "      <td>53.00</td>\n",
       "      <td>53.00</td>\n",
       "      <td>TS</td>\n",
       "      <td>7</td>\n",
       "    </tr>\n",
       "    <tr>\n",
       "      <th>4</th>\n",
       "      <td>5</td>\n",
       "      <td>Civic (1st Gen)</td>\n",
       "      <td>2001</td>\n",
       "      <td>25833.38</td>\n",
       "      <td>7.04</td>\n",
       "      <td>47.04</td>\n",
       "      <td>47.04</td>\n",
       "      <td>C</td>\n",
       "      <td>1</td>\n",
       "    </tr>\n",
       "  </tbody>\n",
       "</table>\n",
       "</div>"
      ],
      "text/plain": [
       "   carid          vehicle  year      msrp  accelrate    mpg  mpgmpge carclass  \\\n",
       "0      1  Prius (1st Gen)  1997  24509.74       7.46  41.26    41.26        C   \n",
       "1      2             Tino  2000  35354.97       8.20  54.10    54.10        C   \n",
       "2      3  Prius (2nd Gen)  2000  26832.25       7.97  45.23    45.23        C   \n",
       "3      4          Insight  2000  18936.41       9.52  53.00    53.00       TS   \n",
       "4      5  Civic (1st Gen)  2001  25833.38       7.04  47.04    47.04        C   \n",
       "\n",
       "   carclass_id  \n",
       "0            1  \n",
       "1            1  \n",
       "2            1  \n",
       "3            7  \n",
       "4            1  "
      ]
     },
     "execution_count": 2,
     "metadata": {},
     "output_type": "execute_result"
    }
   ],
   "source": [
    "# Read the csv file into a pandas DataFrame\n",
    "lsd = pd.read_csv('hybrid_vehicle_price_data.csv')\n",
    "lsd.head()"
   ]
  },
  {
   "cell_type": "code",
   "execution_count": 3,
   "metadata": {},
   "outputs": [
    {
     "name": "stdout",
     "output_type": "stream",
     "text": [
      "Shape:  (153, 1) (153, 1)\n"
     ]
    },
    {
     "data": {
      "text/plain": [
       "array([[1997],\n",
       "       [2000],\n",
       "       [2000],\n",
       "       [2000],\n",
       "       [2001],\n",
       "       [2001],\n",
       "       [2002],\n",
       "       [2003],\n",
       "       [2003],\n",
       "       [2003],\n",
       "       [2004],\n",
       "       [2004],\n",
       "       [2004],\n",
       "       [2004],\n",
       "       [2005],\n",
       "       [2005],\n",
       "       [2005],\n",
       "       [2005],\n",
       "       [2005],\n",
       "       [2005],\n",
       "       [2005],\n",
       "       [2005],\n",
       "       [2006],\n",
       "       [2006],\n",
       "       [2006],\n",
       "       [2006],\n",
       "       [2006],\n",
       "       [2007],\n",
       "       [2007],\n",
       "       [2007],\n",
       "       [2007],\n",
       "       [2007],\n",
       "       [2007],\n",
       "       [2007],\n",
       "       [2007],\n",
       "       [2008],\n",
       "       [2008],\n",
       "       [2008],\n",
       "       [2008],\n",
       "       [2009],\n",
       "       [2009],\n",
       "       [2009],\n",
       "       [2009],\n",
       "       [2009],\n",
       "       [2009],\n",
       "       [2009],\n",
       "       [2009],\n",
       "       [2009],\n",
       "       [2009],\n",
       "       [2009],\n",
       "       [2009],\n",
       "       [2009],\n",
       "       [2009],\n",
       "       [2010],\n",
       "       [2010],\n",
       "       [2010],\n",
       "       [2010],\n",
       "       [2010],\n",
       "       [2010],\n",
       "       [2010],\n",
       "       [2010],\n",
       "       [2010],\n",
       "       [2010],\n",
       "       [2010],\n",
       "       [2010],\n",
       "       [2010],\n",
       "       [2010],\n",
       "       [2010],\n",
       "       [2010],\n",
       "       [2010],\n",
       "       [2010],\n",
       "       [2010],\n",
       "       [2010],\n",
       "       [2010],\n",
       "       [2010],\n",
       "       [2010],\n",
       "       [2011],\n",
       "       [2011],\n",
       "       [2011],\n",
       "       [2011],\n",
       "       [2011],\n",
       "       [2011],\n",
       "       [2011],\n",
       "       [2011],\n",
       "       [2011],\n",
       "       [2011],\n",
       "       [2011],\n",
       "       [2011],\n",
       "       [2011],\n",
       "       [2011],\n",
       "       [2011],\n",
       "       [2011],\n",
       "       [2011],\n",
       "       [2011],\n",
       "       [2011],\n",
       "       [2011],\n",
       "       [2012],\n",
       "       [2012],\n",
       "       [2012],\n",
       "       [2012],\n",
       "       [2012],\n",
       "       [2012],\n",
       "       [2012],\n",
       "       [2012],\n",
       "       [2012],\n",
       "       [2012],\n",
       "       [2012],\n",
       "       [2012],\n",
       "       [2012],\n",
       "       [2012],\n",
       "       [2013],\n",
       "       [2013],\n",
       "       [2013],\n",
       "       [2013],\n",
       "       [2013],\n",
       "       [2013],\n",
       "       [2013],\n",
       "       [2013],\n",
       "       [2013],\n",
       "       [2013],\n",
       "       [2013],\n",
       "       [2013],\n",
       "       [2013],\n",
       "       [2013],\n",
       "       [2013],\n",
       "       [2013],\n",
       "       [2013],\n",
       "       [2013],\n",
       "       [2013],\n",
       "       [2013],\n",
       "       [2013],\n",
       "       [2013],\n",
       "       [2013],\n",
       "       [2013],\n",
       "       [2013],\n",
       "       [2013],\n",
       "       [2013],\n",
       "       [2013],\n",
       "       [2013],\n",
       "       [2013],\n",
       "       [2013],\n",
       "       [2013],\n",
       "       [2013],\n",
       "       [2013],\n",
       "       [2013],\n",
       "       [2013],\n",
       "       [2013],\n",
       "       [2013],\n",
       "       [2013],\n",
       "       [2013],\n",
       "       [2013],\n",
       "       [2013],\n",
       "       [2013]])"
      ]
     },
     "execution_count": 3,
     "metadata": {},
     "output_type": "execute_result"
    }
   ],
   "source": [
    "# Assign the data to X and y\n",
    "# Note: Sklearn requires a two-dimensional array of values\n",
    "# so we use reshape to create this\n",
    "\n",
    "X = lsd.year.values.reshape(-1, 1)\n",
    "y = lsd.msrp.values.reshape(-1, 1)\n",
    "\n",
    "print(\"Shape: \", X.shape, y.shape)\n",
    "X"
   ]
  },
  {
   "cell_type": "code",
   "execution_count": 4,
   "metadata": {
    "nbgrader": {
     "grade": false,
     "grade_id": "cell-9042a62fdddc21ba",
     "locked": false,
     "schema_version": 1,
     "solution": true
    }
   },
   "outputs": [
    {
     "data": {
      "text/plain": [
       "<matplotlib.collections.PathCollection at 0x11cbb4610>"
      ]
     },
     "execution_count": 4,
     "metadata": {},
     "output_type": "execute_result"
    },
    {
     "data": {
      "image/png": "[encoded data removed]",
      "text/plain": [
       "<Figure size 432x288 with 1 Axes>"
      ]
     },
     "metadata": {
      "needs_background": "light"
     },
     "output_type": "display_data"
    }
   ],
   "source": [
    "# Plot the data\n",
    "plt.scatter(X, y)\n"
   ]
  },
  {
   "cell_type": "code",
   "execution_count": 5,
   "metadata": {
    "nbgrader": {
     "grade": false,
     "grade_id": "cell-c28431477001b4ca",
     "locked": false,
     "schema_version": 1,
     "solution": true
    }
   },
   "outputs": [],
   "source": [
    "# Create the model and fit the model to the data\n",
    "\n",
    "from sklearn.linear_model import LinearRegression\n",
    "\n",
    "model = LinearRegression()\n"
   ]
  },
  {
   "cell_type": "code",
   "execution_count": 6,
   "metadata": {
    "nbgrader": {
     "grade": false,
     "grade_id": "cell-cf45418a342b12fd",
     "locked": false,
     "schema_version": 1,
     "solution": true
    }
   },
   "outputs": [
    {
     "data": {
      "text/plain": [
       "LinearRegression(copy_X=True, fit_intercept=True, n_jobs=None, normalize=False)"
      ]
     },
     "execution_count": 6,
     "metadata": {},
     "output_type": "execute_result"
    }
   ],
   "source": [
    "# Fit the model to the data. \n",
    "# Note: This is the training step where you fit the line to the data.\n",
    "\n",
    "model.fit(X, y)\n"
   ]
  },
  {
   "cell_type": "code",
   "execution_count": 7,
   "metadata": {
    "nbgrader": {
     "grade": false,
     "grade_id": "cell-546fc1044e2e1c77",
     "locked": false,
     "schema_version": 1,
     "solution": true
    }
   },
   "outputs": [
    {
     "name": "stdout",
     "output_type": "stream",
     "text": [
      "Weight coefficients:  [[1299.07379944]]\n",
      "y-axis intercept:  [-2571453.80298634]\n"
     ]
    }
   ],
   "source": [
    "# Print the coefficient and the intercept for the model\n",
    "\n",
    "print('Weight coefficients: ', model.coef_)\n",
    "print('y-axis intercept: ', model.intercept_)\n"
   ]
  },
  {
   "cell_type": "code",
   "execution_count": 8,
   "metadata": {},
   "outputs": [
    {
     "name": "stdout",
     "output_type": "stream",
     "text": [
      "Min X Value: [[1997]]\n",
      "Max X Value: [[2013]]\n"
     ]
    }
   ],
   "source": [
    "# Note: we have to transform our min and max values \n",
    "# so they are in the format: array([[ 1.17]])\n",
    "# This is the required format for `model.predict()`\n",
    "\n",
    "x_min = np.array([[X.min()]])\n",
    "x_max = np.array([[X.max()]])\n",
    "print(f\"Min X Value: {x_min}\")\n",
    "print(f\"Max X Value: {x_max}\")"
   ]
  },
  {
   "cell_type": "code",
   "execution_count": 9,
   "metadata": {
    "nbgrader": {
     "grade": false,
     "grade_id": "cell-5314a52e13fd4e63",
     "locked": false,
     "schema_version": 1,
     "solution": true
    }
   },
   "outputs": [],
   "source": [
    "# Calculate the y_min and y_max using model.predict and x_min and x_max\n",
    "\n",
    "y_min = model.predict(x_min)\n",
    "y_max = model.predict(x_max)\n"
   ]
  },
  {
   "cell_type": "code",
   "execution_count": 10,
   "metadata": {
    "nbgrader": {
     "grade": false,
     "grade_id": "cell-63f9d27c8f668bfa",
     "locked": false,
     "schema_version": 1,
     "solution": true
    },
    "scrolled": true
   },
   "outputs": [
    {
     "data": {
      "text/plain": [
       "[<matplotlib.lines.Line2D at 0x11c471f90>]"
      ]
     },
     "execution_count": 10,
     "metadata": {},
     "output_type": "execute_result"
    },
    {
     "data": {
      "image/png": "[encoded data removed]",
      "text/plain": [
       "<Figure size 432x288 with 1 Axes>"
      ]
     },
     "metadata": {
      "needs_background": "light"
     },
     "output_type": "display_data"
    }
   ],
   "source": [
    "# Plot X and y using plt.scatter\n",
    "# Plot the model fit line using [x_min[0], x_max[0]], [y_min[0], y_max[0]]\n",
    "\n",
    "plt.scatter(X, y, c='blue')\n",
    "plt.plot([x_min[0], x_max[0]], [y_min[0], y_max[0]], c='red')\n"
   ]
  }
 ],
 "metadata": {
  "celltoolbar": "Create Assignment",
  "kernelspec": {
   "display_name": "Python 3",
   "language": "python",
   "name": "python3"
  },
  "language_info": {
   "codemirror_mode": {
    "name": "ipython",
    "version": 3
   },
   "file_extension": ".py",
   "mimetype": "text/x-python",
   "name": "python",
   "nbconvert_exporter": "python",
   "pygments_lexer": "ipython3",
   "version": "3.7.6"
  },
  "varInspector": {
   "cols": {
    "lenName": 16,
    "lenType": 16,
    "lenVar": 40
   },
   "kernels_config": {
    "python": {
     "delete_cmd_postfix": "",
     "delete_cmd_prefix": "del ",
     "library": "var_list.py",
     "varRefreshCmd": "print(var_dic_list())"
    },
    "r": {
     "delete_cmd_postfix": ") ",
     "delete_cmd_prefix": "rm(",
     "library": "var_list.r",
     "varRefreshCmd": "cat(var_dic_list()) "
    }
   },
   "types_to_exclude": [
    "module",
    "function",
    "builtin_function_or_method",
    "instance",
    "_Feature"
   ],
   "window_display": false
  }
 },
 "nbformat": 4,
 "nbformat_minor": 2
}
