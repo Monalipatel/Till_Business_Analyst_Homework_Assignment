{
 "cells": [
  {
   "cell_type": "code",
   "execution_count": 1,
   "metadata": {},
   "outputs": [],
   "source": [
    "%matplotlib inline\n",
    "import matplotlib.pyplot as plt\n",
    "import numpy as np\n",
    "import pandas as pd"
   ]
  },
  {
   "cell_type": "code",
   "execution_count": 2,
   "metadata": {},
   "outputs": [
    {
     "data": {
      "text/html": [
       "<div>\n",
       "<style scoped>\n",
       "    .dataframe tbody tr th:only-of-type {\n",
       "        vertical-align: middle;\n",
       "    }\n",
       "\n",
       "    .dataframe tbody tr th {\n",
       "        vertical-align: top;\n",
       "    }\n",
       "\n",
       "    .dataframe thead th {\n",
       "        text-align: right;\n",
       "    }\n",
       "</style>\n",
       "<table border=\"1\" class=\"dataframe\">\n",
       "  <thead>\n",
       "    <tr style=\"text-align: right;\">\n",
       "      <th></th>\n",
       "      <th>carid</th>\n",
       "      <th>vehicle</th>\n",
       "      <th>year</th>\n",
       "      <th>msrp</th>\n",
       "      <th>accelrate</th>\n",
       "      <th>mpg</th>\n",
       "      <th>mpgmpge</th>\n",
       "      <th>carclass</th>\n",
       "      <th>carclass_id</th>\n",
       "    </tr>\n",
       "  </thead>\n",
       "  <tbody>\n",
       "    <tr>\n",
       "      <th>0</th>\n",
       "      <td>1</td>\n",
       "      <td>Prius (1st Gen)</td>\n",
       "      <td>1997</td>\n",
       "      <td>24509.74</td>\n",
       "      <td>7.46</td>\n",
       "      <td>41.26</td>\n",
       "      <td>41.26</td>\n",
       "      <td>C</td>\n",
       "      <td>1</td>\n",
       "    </tr>\n",
       "    <tr>\n",
       "      <th>1</th>\n",
       "      <td>2</td>\n",
       "      <td>Tino</td>\n",
       "      <td>2000</td>\n",
       "      <td>35354.97</td>\n",
       "      <td>8.20</td>\n",
       "      <td>54.10</td>\n",
       "      <td>54.10</td>\n",
       "      <td>C</td>\n",
       "      <td>1</td>\n",
       "    </tr>\n",
       "    <tr>\n",
       "      <th>2</th>\n",
       "      <td>3</td>\n",
       "      <td>Prius (2nd Gen)</td>\n",
       "      <td>2000</td>\n",
       "      <td>26832.25</td>\n",
       "      <td>7.97</td>\n",
       "      <td>45.23</td>\n",
       "      <td>45.23</td>\n",
       "      <td>C</td>\n",
       "      <td>1</td>\n",
       "    </tr>\n",
       "    <tr>\n",
       "      <th>3</th>\n",
       "      <td>4</td>\n",
       "      <td>Insight</td>\n",
       "      <td>2000</td>\n",
       "      <td>18936.41</td>\n",
       "      <td>9.52</td>\n",
       "      <td>53.00</td>\n",
       "      <td>53.00</td>\n",
       "      <td>TS</td>\n",
       "      <td>7</td>\n",
       "    </tr>\n",
       "    <tr>\n",
       "      <th>4</th>\n",
       "      <td>5</td>\n",
       "      <td>Civic (1st Gen)</td>\n",
       "      <td>2001</td>\n",
       "      <td>25833.38</td>\n",
       "      <td>7.04</td>\n",
       "      <td>47.04</td>\n",
       "      <td>47.04</td>\n",
       "      <td>C</td>\n",
       "      <td>1</td>\n",
       "    </tr>\n",
       "  </tbody>\n",
       "</table>\n",
       "</div>"
      ],
      "text/plain": [
       "   carid          vehicle  year      msrp  accelrate    mpg  mpgmpge carclass  \\\n",
       "0      1  Prius (1st Gen)  1997  24509.74       7.46  41.26    41.26        C   \n",
       "1      2             Tino  2000  35354.97       8.20  54.10    54.10        C   \n",
       "2      3  Prius (2nd Gen)  2000  26832.25       7.97  45.23    45.23        C   \n",
       "3      4          Insight  2000  18936.41       9.52  53.00    53.00       TS   \n",
       "4      5  Civic (1st Gen)  2001  25833.38       7.04  47.04    47.04        C   \n",
       "\n",
       "   carclass_id  \n",
       "0            1  \n",
       "1            1  \n",
       "2            1  \n",
       "3            7  \n",
       "4            1  "
      ]
     },
     "execution_count": 2,
     "metadata": {},
     "output_type": "execute_result"
    }
   ],
   "source": [
    "# Read the csv file into a pandas DataFrame\n",
    "lsd = pd.read_csv('hybrid_vehicle_price_data.csv')\n",
    "lsd.head()"
   ]
  },
  {
   "cell_type": "code",
   "execution_count": 12,
   "metadata": {},
   "outputs": [
    {
     "name": "stdout",
     "output_type": "stream",
     "text": [
      "Shape:  (153, 1) (153, 1)\n"
     ]
    },
    {
     "data": {
      "text/plain": [
       "<matplotlib.collections.PathCollection at 0x8e8354fc40>"
      ]
     },
     "execution_count": 12,
     "metadata": {},
     "output_type": "execute_result"
    },
    {
     "data": {
      "image/png": "[encoded data removed]",
      "text/plain": [
       "<Figure size 432x288 with 1 Axes>"
      ]
     },
     "metadata": {
      "needs_background": "light"
     },
     "output_type": "display_data"
    }
   ],
   "source": [
    "# Assign the data to X and y\n",
    "# Note: Sklearn requires a two-dimensional array of values\n",
    "# so we use reshape to create this\n",
    "\n",
    "X = lsd.msrp.values.reshape(-1, 1)\n",
    "y = lsd.accelrate.values.reshape(-1, 1)\n",
    "\n",
    "print(\"Shape: \", X.shape, y.shape)\n",
    "X\n",
    "\n",
    "# Plot the data\n",
    "plt.scatter(X, y)"
   ]
  },
  {
   "cell_type": "code",
   "execution_count": 13,
   "metadata": {
    "nbgrader": {
     "grade": false,
     "grade_id": "cell-c28431477001b4ca",
     "locked": false,
     "schema_version": 1,
     "solution": true
    }
   },
   "outputs": [
    {
     "data": {
      "text/plain": [
       "LinearRegression()"
      ]
     },
     "execution_count": 13,
     "metadata": {},
     "output_type": "execute_result"
    }
   ],
   "source": [
    "# Create the model and fit the model to the data\n",
    "\n",
    "from sklearn.linear_model import LinearRegression\n",
    "\n",
    "model = LinearRegression()\n",
    "\n",
    "# Fit the model to the data. \n",
    "# Note: This is the training step where you fit the line to the data.\n",
    "\n",
    "model.fit(X, y)"
   ]
  },
  {
   "cell_type": "code",
   "execution_count": 14,
   "metadata": {
    "nbgrader": {
     "grade": false,
     "grade_id": "cell-546fc1044e2e1c77",
     "locked": false,
     "schema_version": 1,
     "solution": true
    }
   },
   "outputs": [
    {
     "name": "stdout",
     "output_type": "stream",
     "text": [
      "Weight coefficients:  [[9.5473751e-05]]\n",
      "y-axis intercept:  [8.20452281]\n",
      "Min X Value: [[11849.43]]\n",
      "Max X Value: [[118543.6]]\n"
     ]
    }
   ],
   "source": [
    "# Print the coefficient and the intercept for the model\n",
    "\n",
    "print('Weight coefficients: ', model.coef_)\n",
    "print('y-axis intercept: ', model.intercept_)\n",
    "\n",
    "# Note: we have to transform our min and max values \n",
    "# so they are in the format: array([[ 1.17]])\n",
    "# This is the required format for `model.predict()`\n",
    "\n",
    "x_min = np.array([[X.min()]])\n",
    "x_max = np.array([[X.max()]])\n",
    "print(f\"Min X Value: {x_min}\")\n",
    "print(f\"Max X Value: {x_max}\")\n"
   ]
  },
  {
   "cell_type": "code",
   "execution_count": 15,
   "metadata": {
    "nbgrader": {
     "grade": false,
     "grade_id": "cell-5314a52e13fd4e63",
     "locked": false,
     "schema_version": 1,
     "solution": true
    }
   },
   "outputs": [
    {
     "data": {
      "text/plain": [
       "[<matplotlib.lines.Line2D at 0x8e839a8400>]"
      ]
     },
     "execution_count": 15,
     "metadata": {},
     "output_type": "execute_result"
    },
    {
     "data": {
      "image/png": "[encoded data removed]",
      "text/plain": [
       "<Figure size 432x288 with 1 Axes>"
      ]
     },
     "metadata": {
      "needs_background": "light"
     },
     "output_type": "display_data"
    }
   ],
   "source": [
    "# Calculate the y_min and y_max using model.predict and x_min and x_max\n",
    "\n",
    "y_min = model.predict(x_min)\n",
    "y_max = model.predict(x_max)\n",
    "\n",
    "# Plot X and y using plt.scatter\n",
    "# Plot the model fit line using [x_min[0], x_max[0]], [y_min[0], y_max[0]]\n",
    "\n",
    "plt.scatter(X, y, c='blue')\n",
    "plt.plot([x_min[0], x_max[0]], [y_min[0], y_max[0]], c='red')\n"
   ]
  },
  {
   "cell_type": "code",
   "execution_count": 17,
   "metadata": {},
   "outputs": [
    {
     "name": "stdout",
     "output_type": "stream",
     "text": [
      "Shape:  (153, 1) (153, 1)\n"
     ]
    },
    {
     "data": {
      "text/plain": [
       "array([[41.26],\n",
       "       [54.1 ],\n",
       "       [45.23],\n",
       "       [53.  ],\n",
       "       [47.04],\n",
       "       [53.  ],\n",
       "       [53.  ],\n",
       "       [40.46],\n",
       "       [53.  ],\n",
       "       [41.  ],\n",
       "       [31.99],\n",
       "       [52.  ],\n",
       "       [46.  ],\n",
       "       [17.  ],\n",
       "       [28.23],\n",
       "       [39.99],\n",
       "       [29.4 ],\n",
       "       [52.  ],\n",
       "       [41.  ],\n",
       "       [29.  ],\n",
       "       [28.  ],\n",
       "       [17.  ],\n",
       "       [32.93],\n",
       "       [33.64],\n",
       "       [33.4 ],\n",
       "       [47.04],\n",
       "       [32.93],\n",
       "       [22.35],\n",
       "       [25.87],\n",
       "       [21.  ],\n",
       "       [31.75],\n",
       "       [21.78],\n",
       "       [27.  ],\n",
       "       [26.  ],\n",
       "       [17.  ],\n",
       "       [37.16],\n",
       "       [22.35],\n",
       "       [30.11],\n",
       "       [34.  ],\n",
       "       [35.28],\n",
       "       [31.99],\n",
       "       [23.99],\n",
       "       [47.98],\n",
       "       [26.34],\n",
       "       [40.69],\n",
       "       [54.1 ],\n",
       "       [41.87],\n",
       "       [18.82],\n",
       "       [54.1 ],\n",
       "       [29.  ],\n",
       "       [28.  ],\n",
       "       [21.  ],\n",
       "       [21.  ],\n",
       "       [68.21],\n",
       "       [37.  ],\n",
       "       [30.15],\n",
       "       [28.7 ],\n",
       "       [33.64],\n",
       "       [29.4 ],\n",
       "       [31.28],\n",
       "       [22.11],\n",
       "       [37.63],\n",
       "       [30.  ],\n",
       "       [37.  ],\n",
       "       [26.11],\n",
       "       [41.  ],\n",
       "       [33.64],\n",
       "       [35.  ],\n",
       "       [29.  ],\n",
       "       [39.  ],\n",
       "       [35.  ],\n",
       "       [32.  ],\n",
       "       [30.  ],\n",
       "       [22.  ],\n",
       "       [22.  ],\n",
       "       [21.  ],\n",
       "       [50.  ],\n",
       "       [42.  ],\n",
       "       [44.36],\n",
       "       [72.92],\n",
       "       [61.16],\n",
       "       [58.8 ],\n",
       "       [25.99],\n",
       "       [32.93],\n",
       "       [50.81],\n",
       "       [36.  ],\n",
       "       [32.  ],\n",
       "       [41.  ],\n",
       "       [39.  ],\n",
       "       [37.  ],\n",
       "       [36.  ],\n",
       "       [33.  ],\n",
       "       [32.  ],\n",
       "       [21.  ],\n",
       "       [21.  ],\n",
       "       [20.  ],\n",
       "       [50.  ],\n",
       "       [50.  ],\n",
       "       [37.  ],\n",
       "       [26.  ],\n",
       "       [31.  ],\n",
       "       [42.  ],\n",
       "       [37.  ],\n",
       "       [41.  ],\n",
       "       [39.  ],\n",
       "       [29.  ],\n",
       "       [29.  ],\n",
       "       [26.  ],\n",
       "       [25.  ],\n",
       "       [21.  ],\n",
       "       [50.  ],\n",
       "       [45.  ],\n",
       "       [44.  ],\n",
       "       [50.  ],\n",
       "       [47.  ],\n",
       "       [43.  ],\n",
       "       [42.  ],\n",
       "       [41.  ],\n",
       "       [40.  ],\n",
       "       [38.  ],\n",
       "       [38.  ],\n",
       "       [37.  ],\n",
       "       [37.  ],\n",
       "       [29.  ],\n",
       "       [29.  ],\n",
       "       [29.  ],\n",
       "       [30.  ],\n",
       "       [28.  ],\n",
       "       [26.  ],\n",
       "       [21.  ],\n",
       "       [21.  ],\n",
       "       [21.  ],\n",
       "       [21.  ],\n",
       "       [21.  ],\n",
       "       [21.  ],\n",
       "       [45.  ],\n",
       "       [42.  ],\n",
       "       [40.  ],\n",
       "       [38.  ],\n",
       "       [28.  ],\n",
       "       [21.  ],\n",
       "       [21.  ],\n",
       "       [31.  ],\n",
       "       [29.  ],\n",
       "       [26.  ],\n",
       "       [26.  ],\n",
       "       [25.  ],\n",
       "       [25.  ],\n",
       "       [21.  ],\n",
       "       [50.  ],\n",
       "       [43.  ],\n",
       "       [43.  ],\n",
       "       [37.  ]])"
      ]
     },
     "execution_count": 17,
     "metadata": {},
     "output_type": "execute_result"
    }
   ],
   "source": [
    "# Assign the data to X and y\n",
    "# Note: Sklearn requires a two-dimensional array of values\n",
    "# so we use reshape to create this\n",
    "\n",
    "X = lsd.mpg.values.reshape(-1, 1)\n",
    "y = lsd.mpgmpge.values.reshape(-1, 1)\n",
    "\n",
    "print(\"Shape: \", X.shape, y.shape)\n",
    "X"
   ]
  },
  {
   "cell_type": "code",
   "execution_count": 18,
   "metadata": {},
   "outputs": [
    {
     "data": {
      "text/plain": [
       "<matplotlib.collections.PathCollection at 0x8e83a08af0>"
      ]
     },
     "execution_count": 18,
     "metadata": {},
     "output_type": "execute_result"
    },
    {
     "data": {
      "image/png": "[encoded data removed]",
      "text/plain": [
       "<Figure size 432x288 with 1 Axes>"
      ]
     },
     "metadata": {
      "needs_background": "light"
     },
     "output_type": "display_data"
    }
   ],
   "source": [
    "# Plot the data\n",
    "plt.scatter(X, y)"
   ]
  },
  {
   "cell_type": "code",
   "execution_count": 19,
   "metadata": {},
   "outputs": [
    {
     "data": {
      "text/plain": [
       "LinearRegression()"
      ]
     },
     "execution_count": 19,
     "metadata": {},
     "output_type": "execute_result"
    }
   ],
   "source": [
    "# Create the model and fit the model to the data\n",
    "\n",
    "from sklearn.linear_model import LinearRegression\n",
    "\n",
    "model = LinearRegression()\n",
    "\n",
    "# Fit the model to the data. \n",
    "# Note: This is the training step where you fit the line to the data.\n",
    "\n",
    "model.fit(X, y)"
   ]
  },
  {
   "cell_type": "code",
   "execution_count": 10,
   "metadata": {},
   "outputs": [
    {
     "name": "stdout",
     "output_type": "stream",
     "text": [
      "Weight coefficients:  [[-2.49112223]]\n",
      "y-axis intercept:  [68.24334503]\n",
      "Min X Value: [[6.29]]\n",
      "Max X Value: [[20.41]]\n"
     ]
    }
   ],
   "source": [
    "# Print the coefficient and the intercept for the model\n",
    "\n",
    "print('Weight coefficients: ', model.coef_)\n",
    "print('y-axis intercept: ', model.intercept_)\n",
    "\n",
    "# Note: we have to transform our min and max values \n",
    "# so they are in the format: array([[ 1.17]])\n",
    "# This is the required format for `model.predict()`\n",
    "\n",
    "x_min = np.array([[X.min()]])\n",
    "x_max = np.array([[X.max()]])\n",
    "print(f\"Min X Value: {x_min}\")\n",
    "print(f\"Max X Value: {x_max}\")"
   ]
  },
  {
   "cell_type": "code",
   "execution_count": 20,
   "metadata": {},
   "outputs": [
    {
     "data": {
      "text/plain": [
       "[<matplotlib.lines.Line2D at 0x8e83618340>]"
      ]
     },
     "execution_count": 20,
     "metadata": {},
     "output_type": "execute_result"
    },
    {
     "data": {
      "image/png": "[encoded data removed]",
      "text/plain": [
       "<Figure size 432x288 with 1 Axes>"
      ]
     },
     "metadata": {
      "needs_background": "light"
     },
     "output_type": "display_data"
    }
   ],
   "source": [
    "# Calculate the y_min and y_max using model.predict and x_min and x_max\n",
    "\n",
    "y_min = model.predict(x_min)\n",
    "y_max = model.predict(x_max)\n",
    "\n",
    "# Plot X and y using plt.scatter\n",
    "# Plot the model fit line using [x_min[0], x_max[0]], [y_min[0], y_max[0]]\n",
    "\n",
    "plt.scatter(X, y, c='blue')\n",
    "plt.plot([x_min[0], x_max[0]], [y_min[0], y_max[0]], c='red')\n",
    "\n"
   ]
  },
  {
   "cell_type": "code",
   "execution_count": null,
   "metadata": {},
   "outputs": [],
   "source": []
  }
 ],
 "metadata": {
  "celltoolbar": "Create Assignment",
  "kernelspec": {
   "display_name": "Python 3 (ipykernel)",
   "language": "python",
   "name": "python3"
  },
  "language_info": {
   "codemirror_mode": {
    "name": "ipython",
    "version": 3
   },
   "file_extension": ".py",
   "mimetype": "text/x-python",
   "name": "python",
   "nbconvert_exporter": "python",
   "pygments_lexer": "ipython3",
   "version": "3.8.8"
  },
  "varInspector": {
   "cols": {
    "lenName": 16,
    "lenType": 16,
    "lenVar": 40
   },
   "kernels_config": {
    "python": {
     "delete_cmd_postfix": "",
     "delete_cmd_prefix": "del ",
     "library": "var_list.py",
     "varRefreshCmd": "print(var_dic_list())"
    },
    "r": {
     "delete_cmd_postfix": ") ",
     "delete_cmd_prefix": "rm(",
     "library": "var_list.r",
     "varRefreshCmd": "cat(var_dic_list()) "
    }
   },
   "types_to_exclude": [
    "module",
    "function",
    "builtin_function_or_method",
    "instance",
    "_Feature"
   ],
   "window_display": false
  }
 },
 "nbformat": 4,
 "nbformat_minor": 2
}
